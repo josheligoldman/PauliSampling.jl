{
 "cells": [
  {
   "cell_type": "code",
   "execution_count": null,
   "id": "2e4187b9",
   "metadata": {
    "vscode": {
     "languageId": "julia"
    }
   },
   "outputs": [],
   "source": [
    "using PauliPropagation\n",
    "using PauliSampling\n",
    "using Plots\n",
    "using Statistics"
   ]
  },
  {
   "cell_type": "code",
   "execution_count": null,
   "id": "983b8997",
   "metadata": {
    "vscode": {
     "languageId": "julia"
    }
   },
   "outputs": [
    {
     "name": "stdout",
     "output_type": "stream",
     "text": [
      "  0.756964 seconds (817.97 k allocations: 46.493 MiB, 26.87% gc time, 92.32% compilation time)\n"
     ]
    },
    {
     "data": {
      "text/plain": [
       "lossfunction (generic function with 1 method)"
      ]
     },
     "metadata": {},
     "output_type": "display_data"
    }
   ],
   "source": [
    "nq = 16\n",
    "\n",
    "topology = bricklayertopology(nq);\n",
    "\n",
    "H = PauliSum(nq)\n",
    "\n",
    "for qind in 1:nq\n",
    "    add!(H, :X, qind, 1.0)\n",
    "end\n",
    "\n",
    "for pair in topology\n",
    "    add!(H, [:Z, :Z], collect(pair), 1.0)\n",
    "end\n",
    "\n",
    "nl = 4\n",
    "\n",
    "circuit = hardwareefficientcircuit(nq, nl; topology=topology)\n",
    "nparams = countparameters(circuit)\n",
    "thetas = randn(nparams);\n",
    "\n",
    "max_freq = 25\n",
    "max_weight = 5\n",
    "\n",
    "@time psum = propagate(circuit, H, thetas; max_freq, max_weight);\n",
    "\n",
    "function lossfunction(thetas)\n",
    "    # differentiation libraries use custom types to trace through the computation\n",
    "    # we need to make all of our objects typed like that so that nothing breaks\n",
    "    CoeffType = eltype(thetas)\n",
    "\n",
    "    # define H again \n",
    "    H = PauliSum(CoeffType, nq)\n",
    "    for qind in 1:nq\n",
    "        add!(H, :X, qind, CoeffType(1.0))\n",
    "    end\n",
    "    for pair in topology\n",
    "        add!(H, [:Z, :Z], collect(pair), CoeffType(1.0))\n",
    "    end\n",
    "\n",
    "    # wrapp the coefficients into PauliFreqTracker so that we can use `max_freq` truncation.\n",
    "    # usually this happens automatically but the in-place propagate!() function does not allow that.\n",
    "    wrapped_H = wrapcoefficients(H, PauliFreqTracker)\n",
    "\n",
    "    # be also need to run the in-place version with `!`, because by default we copy the Pauli sum\n",
    "    output_H = propagate!(circuit, wrapped_H, thetas; max_freq, max_weight);\n",
    "    return overlapwithzero(output_H)\n",
    "end"
   ]
  },
  {
   "cell_type": "code",
   "execution_count": null,
   "id": "7e848c0a",
   "metadata": {
    "vscode": {
     "languageId": "julia"
    }
   },
   "outputs": [],
   "source": [
    "using ReverseDiff: GradientTape, gradient!, compile\n",
    "using ReverseDiff: gradient\n"
   ]
  },
  {
   "cell_type": "code",
   "execution_count": null,
   "id": "ed668b44",
   "metadata": {
    "vscode": {
     "languageId": "julia"
    }
   },
   "outputs": [
    {
     "name": "stdout",
     "output_type": "stream",
     "text": [
      "  1.999754 seconds (20.78 M allocations: 920.752 MiB, 27.73% gc time, 43.82% compilation time)\n",
      "  0.528443 seconds (393.32 k allocations: 19.527 MiB, 27.46% compilation time)\n",
      "  0.378913 seconds\n"
     ]
    }
   ],
   "source": [
    "grad_array = similar(thetas);\n",
    "\n",
    "# pre-record a GradientTape for `gradsimulation` using inputs of length m with Float64 elements\n",
    "@time const simulation_tape = GradientTape(lossfunction, thetas)\n",
    "\n",
    "# first evaluation compiles and is slower\n",
    "@time gradient!(grad_array, simulation_tape, thetas)\n",
    "# second evaluation\n",
    "@time gradient!(grad_array, simulation_tape, thetas);"
   ]
  },
  {
   "cell_type": "code",
   "execution_count": null,
   "id": "1898e8b2",
   "metadata": {
    "vscode": {
     "languageId": "julia"
    }
   },
   "outputs": [
    {
     "name": "stdout",
     "output_type": "stream",
     "text": [
      "  3.662580 seconds (27.75 M allocations: 1.156 GiB, 42.16% gc time, 6.47% compilation time)\n",
      "  0.318169 seconds (74.83 k allocations: 3.678 MiB, 12.37% compilation time)\n",
      "  0.334400 seconds\n"
     ]
    }
   ],
   "source": [
    "# compile to make it even faster\n",
    "@time const compiled_simulation_tape = compile(simulation_tape)\n",
    "\n",
    "# some inputs and work buffer to play around with\n",
    "grad_array_compiled = similar(thetas);\n",
    "\n",
    "# first evaluation compiles and is slower\n",
    "@time gradient!(grad_array_compiled, compiled_simulation_tape, thetas)\n",
    "# second evaluation\n",
    "@time gradient!(grad_array_compiled, compiled_simulation_tape, thetas);"
   ]
  },
  {
   "cell_type": "markdown",
   "id": "338afada",
   "metadata": {},
   "source": [
    "### using Maximum Mean Discrepancy\n",
    "\n",
    "$$MMD^2 (P, Q) = \\mathbb{E}_{x,x' \\sim P} \\left[ k(x,x') \\right] + \\mathbb{E}_{y,x' \\sim Q} \\left[ k(y,y') \\right] - 2 \\mathbb{E}_{x \\sim P, y \\sim Q} \\left[ k(x,y) \\right]$$"
   ]
  },
  {
   "cell_type": "code",
   "execution_count": null,
   "id": "8d06e986",
   "metadata": {
    "vscode": {
     "languageId": "julia"
    }
   },
   "outputs": [
    {
     "data": {
      "text/plain": [
       "rbf_kernel_hamming"
      ]
     },
     "metadata": {},
     "output_type": "display_data"
    }
   ],
   "source": [
    "# using LinearAlgebra\n",
    "\n",
    "\"\"\"\n",
    "Compute pairwise squared Hamming distances between bitstrings\n",
    "represented as integers in 0:(2^n - 1)\n",
    "\"\"\"\n",
    "function hamming_distance_matrix(n)\n",
    "    N = 2^n\n",
    "    H = zeros(Int, N, N)\n",
    "    for i in 0:N-1, j in 0:N-1\n",
    "        H[i+1, j+1] = count_ones(i ⊻ j)\n",
    "    end\n",
    "    return H\n",
    "end\n",
    "\n",
    "\"\"\"\n",
    "Compute MMD^2 between two probability distributions p and q using a kernel matrix K.\n",
    "\"\"\"\n",
    "function compute_mmd(p::Vector{Float64}, q::Vector{Float64}, K::Matrix{Float64})\n",
    "    return p' * K * p + q' * K * q - 2 * p' * K * q\n",
    "end\n",
    "\n",
    "\"\"\"\n",
    "RBF kernel over bitstrings, using Hamming distance as input.\n",
    "gamma is the bandwidth parameter.\n",
    "\"\"\"\n",
    "function rbf_kernel_hamming(n::Int; gamma::Float64=1.0)\n",
    "    H = hamming_distance_matrix(n)\n",
    "    return exp.(-gamma .* Float64.(H))\n",
    "end\n"
   ]
  },
  {
   "cell_type": "code",
   "execution_count": null,
   "id": "d79dd483",
   "metadata": {
    "vscode": {
     "languageId": "julia"
    }
   },
   "outputs": [],
   "source": [
    "nq = 5\n",
    "init_psum = zero_state(nq)\n",
    "circuit = build_circuit(nq, topology_type=:staircase, circuit_type=:heisenbergtrotter)\n",
    "nparams = countparameters(circuit)\n",
    "thetas = randn(nparams) * 0.5\n",
    "exact_psum = propagate(circuit, init_psum, thetas)\n",
    "max_weight = 5\n",
    "trunc_psum = propagate(circuit, init_psum, thetas; max_weight=max_weight)\n",
    "\n",
    "p = get_dist(exact_psum, approximate_prob)\n",
    "q = get_dist(trunc_psum, approximate_prob)\n",
    "\n",
    "K = rbf_kernel_hamming(nq, gamma=0.5)\n",
    "mmd_value = compute_mmd(p, q, K)\n"
   ]
  },
  {
   "cell_type": "markdown",
   "id": "368f56a2",
   "metadata": {},
   "source": [
    "## MMD from samples\n",
    "\n",
    "two sets of bitstring samples:\n",
    "\n",
    "- $X = {x_1 , \\dots , x_m} \\sim P$\n",
    "- $Y = {y_1 , \\dots , y_n} \\sim Q$\n",
    "\n",
    "The empirical unbiased MMD estimator is\n",
    "$$MMD^2(P,Q) = \\frac{1}{m(m-1)} \\sum_{i\\neq j} k(x_i,x_j) + \\frac{1}{n(n-1)} \\sum_{i\\neq j} k(y_i,y_j) - \\frac{2}{mn} \\sum_{i=1}^m\\sum_{j=1}^n k(x_i,y_j) $$ "
   ]
  },
  {
   "cell_type": "code",
   "execution_count": null,
   "id": "d95df81e",
   "metadata": {
    "vscode": {
     "languageId": "julia"
    }
   },
   "outputs": [
    {
     "data": {
      "text/plain": [
       "mmd_from_samples"
      ]
     },
     "metadata": {},
     "output_type": "display_data"
    }
   ],
   "source": [
    "\n",
    "\"\"\"\n",
    "Compute the Hamming distance between two bitstrings represented as integers\n",
    "\"\"\"\n",
    "hamming(x::Int, y::Int) = count_ones(x ⊻ y)\n",
    "\n",
    "\"\"\"\n",
    "Compute RBF kernel value between two bitstrings (as integers), using Hamming distance\n",
    "\"\"\"\n",
    "function rbf_kernel(x::Int, y::Int; gamma::Float64=1.0)\n",
    "    return exp(-gamma * hamming(x, y))\n",
    "end\n",
    "\n",
    "\"\"\"\n",
    "Compute MMD² from samples of integers in [0, 2^n - 1]\n",
    "\"\"\"\n",
    "function mmd_from_samples(X::Vector{Int}, Y::Vector{Int}; gamma::Float64=1.0)\n",
    "    m = length(X)\n",
    "    n = length(Y)\n",
    "\n",
    "    k_xx = sum(rbf_kernel(X[i], X[j]; gamma=gamma) for i in 1:m, j in 1:m if i != j) / (m * (m - 1))\n",
    "    k_yy = sum(rbf_kernel(Y[i], Y[j]; gamma=gamma) for i in 1:n, j in 1:n if i != j) / (n * (n - 1))\n",
    "    k_xy = sum(rbf_kernel(X[i], Y[j]; gamma=gamma) for i in 1:m, j in 1:n) / (m * n)\n",
    "\n",
    "    return k_xx + k_yy - 2 * k_xy\n",
    "end\n"
   ]
  },
  {
   "cell_type": "code",
   "execution_count": null,
   "id": "443371b9",
   "metadata": {
    "vscode": {
     "languageId": "julia"
    }
   },
   "outputs": [
    {
     "data": {
      "text/plain": [
       "0.013156987331881587"
      ]
     },
     "metadata": {},
     "output_type": "display_data"
    }
   ],
   "source": [
    "nq = 5\n",
    "init_psum = zero_state(nq)\n",
    "circuit = build_circuit(nq)\n",
    "nparams = countparameters(circuit)\n",
    "thetas = randn(nparams) * 0.5\n",
    "exact_psum = propagate(circuit, init_psum, thetas)\n",
    "max_weight = 3\n",
    "trunc_psum = propagate(circuit, init_psum, thetas; max_weight=max_weight)\n",
    "\n",
    "X_samples = Vector{BitVector}()\n",
    "Y_samples = Vector{BitVector}()\n",
    "n_sample = 10000\n",
    "\n",
    "for i in 1:n_sample\n",
    "    push!(X_samples, sample_bitstring(exact_psum))\n",
    "    push!(Y_samples, sample_bitstring(trunc_psum))\n",
    "end\n",
    "\n",
    "# Convert BitVectors to integer bitstring indices\n",
    "bitvec_to_int(b::BitVector) = parse(Int, join(b .* 1), base=2)\n",
    "X = bitvec_to_int.(X_samples)\n",
    "Y = bitvec_to_int.(Y_samples)\n",
    "\n",
    "σ = std(vcat(X, Y))\n",
    "# gamma = 1 / (2 * σ^2)\n",
    "gamma = 1 / 1\n",
    "mmd2 = mmd_from_samples(X, Y; gamma)\n"
   ]
  },
  {
   "cell_type": "code",
   "execution_count": null,
   "id": "c85ecd34",
   "metadata": {
    "vscode": {
     "languageId": "julia"
    }
   },
   "outputs": [
    {
     "data": {
      "text/plain": [
       "PauliSum(nqubits: 5, 376 Pauli terms:\n",
       " PauliFreqTracker(0.0067474 + 0.0im) * IYZII\n",
       " PauliFreqTracker(-0.00042681 + 0.0im) * ZIYII\n",
       " PauliFreqTracker(0.0013812 + 0.0im) * IZZII\n",
       " PauliFreqTracker(-0.010162 + 0.0im) * IZXZI\n",
       " PauliFreqTracker(-0.0011018 + 0.0im) * IXZIX\n",
       " PauliFreqTracker(-0.00096645 + 0.0im) * ZIIXI\n",
       " PauliFreqTracker(-0.0030523 + 0.0im) * IYYIZ\n",
       " PauliFreqTracker(-0.0014657 + 0.0im) * XYIXI\n",
       " PauliFreqTracker(-0.00013777 + 0.0im) * ZIZXI\n",
       " PauliFreqTracker(0.0047889 + 0.0im) * IIZXI\n",
       " PauliFreqTracker(0.0038888 + 0.0im) * XZIIY\n",
       " PauliFreqTracker(-0.0019058 + 0.0im) * IYIXY\n",
       " PauliFreqTracker(-0.0040366 + 0.0im) * IIYIY\n",
       " PauliFreqTracker(-0.006907 + 0.0im) * IYYYI\n",
       " PauliFreqTracker(0.0018432 + 0.0im) * ZZIZI\n",
       " PauliFreqTracker(0.0010347 + 0.0im) * ZXIIX\n",
       " PauliFreqTracker(0.0009279 + 0.0im) * YXIIY\n",
       " PauliFreqTracker(-0.00011072 + 0.0im) * YIZZI\n",
       " PauliFreqTracker(0.0027144 + 0.0im) * IIYZI\n",
       " PauliFreqTracker(-0.0037907 + 0.0im) * XIZYI\n",
       "  ⋮)"
      ]
     },
     "metadata": {},
     "output_type": "display_data"
    }
   ],
   "source": [
    "T = eltype(thetas)\n",
    "\n",
    "init_psum = zero_state(nq, T)\n",
    "wrapped_psum = wrapcoefficients(init_psum, PauliFreqTracker)\n",
    "\n",
    "propagate!(circuit, wrapped_psum, thetas; max_weight=max_weight)"
   ]
  },
  {
   "cell_type": "code",
   "execution_count": null,
   "id": "d8bd1d3c",
   "metadata": {
    "vscode": {
     "languageId": "julia"
    }
   },
   "outputs": [
    {
     "data": {
      "text/plain": [
       "1000-element Vector{Int64}:\n",
       " 18\n",
       " 26\n",
       "  8\n",
       " 22\n",
       " 22\n",
       " 26\n",
       " 17\n",
       " 17\n",
       " 23\n",
       " 19\n",
       "  ⋮\n",
       " 23\n",
       "  8\n",
       "  0\n",
       " 19\n",
       " 18\n",
       " 22\n",
       " 27\n",
       " 18\n",
       "  3"
      ]
     },
     "metadata": {},
     "output_type": "display_data"
    }
   ],
   "source": [
    "X_samples = Vector{BitVector}()\n",
    "n_sample = 1000\n",
    "\n",
    "for _ in 1:n_sample\n",
    "    push!(X_samples, sample_bitstring(wrapped_psum))\n",
    "end\n",
    "\n",
    "bitvec_to_int(b::BitVector) = parse(Int, join(b .* 1), base=2)\n",
    "X = bitvec_to_int.(X_samples)"
   ]
  },
  {
   "cell_type": "code",
   "execution_count": null,
   "id": "56ded841",
   "metadata": {
    "vscode": {
     "languageId": "julia"
    }
   },
   "outputs": [
    {
     "data": {
      "text/plain": [
       "lossfunction (generic function with 1 method)"
      ]
     },
     "metadata": {},
     "output_type": "display_data"
    }
   ],
   "source": [
    "function lossfunction(thetas)\n",
    "    T = eltype(thetas)\n",
    "\n",
    "    init_psum = zero_state(nq, T)\n",
    "    wrapped_psum = wrapcoefficients(init_psum, PauliFreqTracker)\n",
    "\n",
    "    propagate!(circuit, wrapped_psum, thetas; max_weight=max_weight)\n",
    "\n",
    "    X_samples = Vector{BitVector}()\n",
    "    n_sample = 1000\n",
    "\n",
    "    for _ in 1:n_sample\n",
    "        push!(X_samples, sample_bitstring(wrapped_psum))\n",
    "    end\n",
    "\n",
    "    bitvec_to_int(b::BitVector) = parse(Int, join(b .* 1), base=2)\n",
    "    X = bitvec_to_int.(X_samples)\n",
    "\n",
    "    # σ = std(vcat(X, Y))\n",
    "    # gamma = 1 / (2 * σ^2 + eps())\n",
    "    gamm =1 \n",
    "    return mmd_from_samples(X, Y; gamma)\n",
    "end\n"
   ]
  },
  {
   "cell_type": "code",
   "execution_count": null,
   "id": "38ac4233",
   "metadata": {
    "vscode": {
     "languageId": "julia"
    }
   },
   "outputs": [
    {
     "name": "stdout",
     "output_type": "stream",
     "text": [
      "  1.066973 seconds (7.50 M allocations: 413.353 MiB, 3.40% gc time, 34.75% compilation time)\n"
     ]
    },
    {
     "data": {
      "text/plain": [
       "0.0001634392591330358"
      ]
     },
     "metadata": {},
     "output_type": "display_data"
    }
   ],
   "source": [
    "@time lossfunction(thetas)\n"
   ]
  },
  {
   "cell_type": "code",
   "execution_count": null,
   "id": "909e40e2",
   "metadata": {
    "vscode": {
     "languageId": "julia"
    }
   },
   "outputs": [],
   "source": [
    "gradient(lossfunction, thetas)"
   ]
  },
  {
   "cell_type": "code",
   "execution_count": null,
   "id": "b6e7d784",
   "metadata": {
    "vscode": {
     "languageId": "julia"
    }
   },
   "outputs": [],
   "source": []
  }
 ],
 "metadata": {
  "language_info": {
   "name": "python"
  }
 },
 "nbformat": 4,
 "nbformat_minor": 5
}
